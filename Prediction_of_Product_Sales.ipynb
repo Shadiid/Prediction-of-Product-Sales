{
  "nbformat": 4,
  "nbformat_minor": 0,
  "metadata": {
    "colab": {
      "provenance": [],
      "authorship_tag": "ABX9TyPR8RdmN0MBVwWMfDshdDfb",
      "include_colab_link": true
    },
    "kernelspec": {
      "name": "python3",
      "display_name": "Python 3"
    },
    "language_info": {
      "name": "python"
    }
  },
  "cells": [
    {
      "cell_type": "markdown",
      "metadata": {
        "id": "view-in-github",
        "colab_type": "text"
      },
      "source": [
        "<a href=\"https://colab.research.google.com/github/Shadiid/Prediction-of-Product-Sales/blob/main/Prediction_of_Product_Sales.ipynb\" target=\"_parent\"><img src=\"https://colab.research.google.com/assets/colab-badge.svg\" alt=\"Open In Colab\"/></a>"
      ]
    },
    {
      "cell_type": "code",
      "execution_count": null,
      "metadata": {
        "id": "fzcyP4iCCQ-q"
      },
      "outputs": [],
      "source": [
        "# \"Project Overview\""
      ]
    },
    {
      "cell_type": "code",
      "source": [
        "# \"Load and Inspect Data\""
      ],
      "metadata": {
        "id": "w9Gso_4pCl1z"
      },
      "execution_count": null,
      "outputs": []
    },
    {
      "cell_type": "code",
      "source": [
        "# \"Clean Data\""
      ],
      "metadata": {
        "id": "fIqL7RXYCrGZ"
      },
      "execution_count": null,
      "outputs": []
    },
    {
      "cell_type": "code",
      "source": [
        "# \"Clean Data\""
      ],
      "metadata": {
        "id": "0Z2QPmsgCsYV"
      },
      "execution_count": null,
      "outputs": []
    },
    {
      "cell_type": "code",
      "source": [
        "# \"Feature Inspection\""
      ],
      "metadata": {
        "id": "Zzcr14daC0Bx"
      },
      "execution_count": null,
      "outputs": []
    }
  ]
}