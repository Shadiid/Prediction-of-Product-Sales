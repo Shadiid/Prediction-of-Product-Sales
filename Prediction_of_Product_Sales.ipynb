{
  "nbformat": 4,
  "nbformat_minor": 0,
  "metadata": {
    "colab": {
      "provenance": [],
      "authorship_tag": "ABX9TyO7HFHJ7Gn6FHgTtP3hyE+X",
      "include_colab_link": true
    },
    "kernelspec": {
      "name": "python3",
      "display_name": "Python 3"
    },
    "language_info": {
      "name": "python"
    }
  },
  "cells": [
    {
      "cell_type": "markdown",
      "metadata": {
        "id": "view-in-github",
        "colab_type": "text"
      },
      "source": [
        "<a href=\"https://colab.research.google.com/github/Shadiid/Prediction-of-Product-Sales/blob/main/Prediction_of_Product_Sales.ipynb\" target=\"_parent\"><img src=\"https://colab.research.google.com/assets/colab-badge.svg\" alt=\"Open In Colab\"/></a>"
      ]
    },
    {
      "cell_type": "markdown",
      "source": [
        "**Prediction of Product Sales**\n",
        "\n",
        "Author: Shadid\n",
        "**bold text**\n"
      ],
      "metadata": {
        "id": "NhPy-hDfEHMK"
      }
    },
    {
      "cell_type": "markdown",
      "source": [
        "**Project Overview**"
      ],
      "metadata": {
        "id": "v1unKHoVE1v3"
      }
    },
    {
      "cell_type": "markdown",
      "source": [],
      "metadata": {
        "id": "fa-WB7i6E5DP"
      }
    },
    {
      "cell_type": "markdown",
      "source": [
        "**Load and Inspect Data**"
      ],
      "metadata": {
        "id": "cA4MjJkYFDL8"
      }
    },
    {
      "cell_type": "code",
      "execution_count": 1,
      "metadata": {
        "id": "fzcyP4iCCQ-q"
      },
      "outputs": [],
      "source": []
    },
    {
      "cell_type": "markdown",
      "source": [
        "**Clean Data**"
      ],
      "metadata": {
        "id": "zXudTkPnF86v"
      }
    },
    {
      "cell_type": "code",
      "source": [],
      "metadata": {
        "id": "w9Gso_4pCl1z"
      },
      "execution_count": null,
      "outputs": []
    },
    {
      "cell_type": "markdown",
      "source": [
        "**Exploratory Data Analysis**"
      ],
      "metadata": {
        "id": "zgYyf3XFFfHA"
      }
    },
    {
      "cell_type": "code",
      "source": [],
      "metadata": {
        "id": "0Z2QPmsgCsYV"
      },
      "execution_count": null,
      "outputs": []
    },
    {
      "cell_type": "markdown",
      "source": [
        "**Feature Inspection**"
      ],
      "metadata": {
        "id": "Fk2yELIcF0K5"
      }
    },
    {
      "cell_type": "code",
      "source": [],
      "metadata": {
        "id": "Zzcr14daC0Bx"
      },
      "execution_count": null,
      "outputs": []
    }
  ]
}